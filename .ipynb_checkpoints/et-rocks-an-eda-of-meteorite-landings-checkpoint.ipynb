{
 "cells": [
  {
   "cell_type": "markdown",
   "metadata": {},
   "source": [
    "# **Extraterrestrial Rocks: An Exploratory Data Analysis (EDA) of Meteorite Landings**"
   ]
  },
  {
   "cell_type": "code",
   "execution_count": 3,
   "metadata": {
    "is_executing": true,
    "trusted": true
   },
   "outputs": [],
   "source": [
    "import folium\n",
    "import matplotlib.pyplot as plt\n",
    "import numpy as np\n",
    "import pandas as pd\n",
    "import plotly.express as px\n",
    "import seaborn as sns"
   ]
  },
  {
   "cell_type": "markdown",
   "metadata": {},
   "source": [
    "# **Helper Functions**"
   ]
  },
  {
   "cell_type": "code",
   "execution_count": 5,
   "metadata": {
    "execution": {
     "iopub.execute_input": "2024-04-21T18:15:55.804627Z",
     "iopub.status.busy": "2024-04-21T18:15:55.804097Z",
     "iopub.status.idle": "2024-04-21T18:15:55.823777Z",
     "shell.execute_reply": "2024-04-21T18:15:55.822174Z",
     "shell.execute_reply.started": "2024-04-21T18:15:55.804587Z"
    },
    "trusted": true
   },
   "outputs": [],
   "source": [
    "def msgboxcenter(text):\n",
    "    \"\"\"\n",
    "    Print multi-line message-box\n",
    "\n",
    "    Parameters:\n",
    "    ----------\n",
    "    msg (str): Message box text\n",
    "\n",
    "    Returns:\n",
    "    ----------\n",
    "    Message box\n",
    "    \"\"\"\n",
    "\n",
    "    # Find the maximum line length in the text\n",
    "    max_line_length = max(len(line) for line in text.split(\"\\n\")) + 8\n",
    "\n",
    "    # Create the top border of the box\n",
    "    top_border = \"╔\" + \"═\" * (max_line_length + 2) + \"╗\"\n",
    "\n",
    "    # Create the bottom border of the box\n",
    "    bottom_border = \"╚\" + \"═\" * (max_line_length + 2) + \"╝\"\n",
    "\n",
    "    # Create the lines of text inside the box\n",
    "    text_lines = text.split(\"\\n\")\n",
    "    formatted_lines = [\"║ \" + line.center(max_line_length) + \" ║\" for line in text_lines]\n",
    "\n",
    "    # Combine all the components to create the boxed text\n",
    "    boxed_text = \"\\n\".join([top_border] + formatted_lines + [bottom_border])\n",
    "\n",
    "    print(boxed_text)\n",
    "\n",
    "\n",
    "def inspect_dataframe(df):\n",
    "    # Inspect data\n",
    "    msgboxcenter(\"Data head - top 5 rows\")\n",
    "    display(df.head(5))\n",
    "    print()\n",
    "\n",
    "    # Gather basic information about the data\n",
    "    msgboxcenter(\"Gather basic information about the data\")\n",
    "    display(df.info())\n",
    "    print()\n",
    "\n",
    "    # Inspect outliers\n",
    "    msgboxcenter(\"Gather descriptive statistics about the data\")\n",
    "    display(df.describe())\n",
    "    print()\n",
    "\n",
    "    # Identify the number of rows and columns in the dataset.\n",
    "    msgboxcenter(\"How many rows and columns are in the dataset?\")\n",
    "    print(f\"Rows = {df.shape[0]}\\nColumns = {df.shape[1]}\")\n",
    "    print()\n",
    "\n",
    "    # Inspect Dtype\n",
    "    msgboxcenter(\"Inspect data types\")\n",
    "    display(df.dtypes)\n",
    "    print()\n",
    "    print(\"-------\")\n",
    "    print()\n",
    "    display(df.dtypes.value_counts())\n",
    "    print()\n",
    "\n",
    "    # Count unique and duplicated rows\n",
    "    msgboxcenter(\"Are there any duplicate rows?\\nCheck duplicates\")\n",
    "    print(df.duplicated().value_counts().to_string().replace(\"False\", \"Unique\").replace(\"True\", \"Duplicated\"))\n",
    "    print()\n",
    "\n",
    "    # Display column names and percentage of nulls\n",
    "    msgboxcenter(\"Are there NaNs/Nulls in any columns?\\nCheck missing values\")\n",
    "    column_null_counts = df.isnull().sum()\n",
    "    column_total_counts = len(df)\n",
    "    column_null_percentage = round((column_null_counts / column_total_counts) * 100, 0)\n",
    "    column_null_info = pd.concat([ column_null_counts, column_null_percentage ], axis=1)\n",
    "    column_null_info.columns = [ 'Null Count', 'Null Percentage']\n",
    "    column_null_info_filtered = column_null_info[column_null_info['Null Count'] > 0]\n",
    "    print(column_null_info_filtered.to_string())\n",
    "\n",
    "    # Display column names and count with NaNs/Nulls\n",
    "    msgboxcenter(\"Count inf in all columns\")\n",
    "    print(df[df == np.inf].count())\n",
    "    print()"
   ]
  },
  {
   "cell_type": "code",
   "execution_count": 3,
   "metadata": {
    "execution": {
     "iopub.execute_input": "2024-04-21T18:15:50.708967Z",
     "iopub.status.busy": "2024-04-21T18:15:50.707935Z",
     "iopub.status.idle": "2024-04-21T18:15:50.953424Z",
     "shell.execute_reply": "2024-04-21T18:15:50.951999Z",
     "shell.execute_reply.started": "2024-04-21T18:15:50.708928Z"
    },
    "trusted": true
   },
   "outputs": [
    {
     "data": {
      "text/html": [
       "<div>\n",
       "<style scoped>\n",
       "    .dataframe tbody tr th:only-of-type {\n",
       "        vertical-align: middle;\n",
       "    }\n",
       "\n",
       "    .dataframe tbody tr th {\n",
       "        vertical-align: top;\n",
       "    }\n",
       "\n",
       "    .dataframe thead th {\n",
       "        text-align: right;\n",
       "    }\n",
       "</style>\n",
       "<table border=\"1\" class=\"dataframe\">\n",
       "  <thead>\n",
       "    <tr style=\"text-align: right;\">\n",
       "      <th></th>\n",
       "      <th>name</th>\n",
       "      <th>id</th>\n",
       "      <th>nametype</th>\n",
       "      <th>recclass</th>\n",
       "      <th>mass (g)</th>\n",
       "      <th>fall</th>\n",
       "      <th>year</th>\n",
       "      <th>reclat</th>\n",
       "      <th>reclong</th>\n",
       "      <th>GeoLocation</th>\n",
       "    </tr>\n",
       "  </thead>\n",
       "  <tbody>\n",
       "    <tr>\n",
       "      <th>0</th>\n",
       "      <td>Aachen</td>\n",
       "      <td>1</td>\n",
       "      <td>Valid</td>\n",
       "      <td>L5</td>\n",
       "      <td>21.0</td>\n",
       "      <td>Fell</td>\n",
       "      <td>1880.0</td>\n",
       "      <td>50.77500</td>\n",
       "      <td>6.08333</td>\n",
       "      <td>(50.775, 6.08333)</td>\n",
       "    </tr>\n",
       "    <tr>\n",
       "      <th>1</th>\n",
       "      <td>Aarhus</td>\n",
       "      <td>2</td>\n",
       "      <td>Valid</td>\n",
       "      <td>H6</td>\n",
       "      <td>720.0</td>\n",
       "      <td>Fell</td>\n",
       "      <td>1951.0</td>\n",
       "      <td>56.18333</td>\n",
       "      <td>10.23333</td>\n",
       "      <td>(56.18333, 10.23333)</td>\n",
       "    </tr>\n",
       "    <tr>\n",
       "      <th>2</th>\n",
       "      <td>Abee</td>\n",
       "      <td>6</td>\n",
       "      <td>Valid</td>\n",
       "      <td>EH4</td>\n",
       "      <td>107000.0</td>\n",
       "      <td>Fell</td>\n",
       "      <td>1952.0</td>\n",
       "      <td>54.21667</td>\n",
       "      <td>-113.00000</td>\n",
       "      <td>(54.21667, -113.0)</td>\n",
       "    </tr>\n",
       "    <tr>\n",
       "      <th>3</th>\n",
       "      <td>Acapulco</td>\n",
       "      <td>10</td>\n",
       "      <td>Valid</td>\n",
       "      <td>Acapulcoite</td>\n",
       "      <td>1914.0</td>\n",
       "      <td>Fell</td>\n",
       "      <td>1976.0</td>\n",
       "      <td>16.88333</td>\n",
       "      <td>-99.90000</td>\n",
       "      <td>(16.88333, -99.9)</td>\n",
       "    </tr>\n",
       "    <tr>\n",
       "      <th>4</th>\n",
       "      <td>Achiras</td>\n",
       "      <td>370</td>\n",
       "      <td>Valid</td>\n",
       "      <td>L6</td>\n",
       "      <td>780.0</td>\n",
       "      <td>Fell</td>\n",
       "      <td>1902.0</td>\n",
       "      <td>-33.16667</td>\n",
       "      <td>-64.95000</td>\n",
       "      <td>(-33.16667, -64.95)</td>\n",
       "    </tr>\n",
       "  </tbody>\n",
       "</table>\n",
       "</div>"
      ],
      "text/plain": [
       "       name   id nametype     recclass  mass (g)  fall    year    reclat  \\\n",
       "0    Aachen    1    Valid           L5      21.0  Fell  1880.0  50.77500   \n",
       "1    Aarhus    2    Valid           H6     720.0  Fell  1951.0  56.18333   \n",
       "2      Abee    6    Valid          EH4  107000.0  Fell  1952.0  54.21667   \n",
       "3  Acapulco   10    Valid  Acapulcoite    1914.0  Fell  1976.0  16.88333   \n",
       "4   Achiras  370    Valid           L6     780.0  Fell  1902.0 -33.16667   \n",
       "\n",
       "     reclong           GeoLocation  \n",
       "0    6.08333     (50.775, 6.08333)  \n",
       "1   10.23333  (56.18333, 10.23333)  \n",
       "2 -113.00000    (54.21667, -113.0)  \n",
       "3  -99.90000     (16.88333, -99.9)  \n",
       "4  -64.95000   (-33.16667, -64.95)  "
      ]
     },
     "execution_count": 3,
     "metadata": {},
     "output_type": "execute_result"
    }
   ],
   "source": [
    "df0 = pd.read_csv(\"/kaggle/input/meteorite-landings-analysis/Meteorite_Landings.csv\")\n",
    "# Inspection\n",
    "df0.head()"
   ]
  },
  {
   "cell_type": "markdown",
   "metadata": {},
   "source": [
    "# **Dataframe Information**"
   ]
  },
  {
   "cell_type": "code",
   "execution_count": 5,
   "metadata": {
    "execution": {
     "iopub.execute_input": "2024-04-21T18:16:06.668345Z",
     "iopub.status.busy": "2024-04-21T18:16:06.667080Z",
     "iopub.status.idle": "2024-04-21T18:16:06.945638Z",
     "shell.execute_reply": "2024-04-21T18:16:06.944058Z",
     "shell.execute_reply.started": "2024-04-21T18:16:06.668296Z"
    },
    "trusted": true
   },
   "outputs": [
    {
     "name": "stdout",
     "output_type": "stream",
     "text": [
      "╔════════════════════════════════╗\n",
      "║     Data head - top 5 rows     ║\n",
      "╚════════════════════════════════╝\n"
     ]
    },
    {
     "data": {
      "text/html": [
       "<div>\n",
       "<style scoped>\n",
       "    .dataframe tbody tr th:only-of-type {\n",
       "        vertical-align: middle;\n",
       "    }\n",
       "\n",
       "    .dataframe tbody tr th {\n",
       "        vertical-align: top;\n",
       "    }\n",
       "\n",
       "    .dataframe thead th {\n",
       "        text-align: right;\n",
       "    }\n",
       "</style>\n",
       "<table border=\"1\" class=\"dataframe\">\n",
       "  <thead>\n",
       "    <tr style=\"text-align: right;\">\n",
       "      <th></th>\n",
       "      <th>name</th>\n",
       "      <th>id</th>\n",
       "      <th>nametype</th>\n",
       "      <th>recclass</th>\n",
       "      <th>mass (g)</th>\n",
       "      <th>fall</th>\n",
       "      <th>year</th>\n",
       "      <th>reclat</th>\n",
       "      <th>reclong</th>\n",
       "      <th>GeoLocation</th>\n",
       "    </tr>\n",
       "  </thead>\n",
       "  <tbody>\n",
       "    <tr>\n",
       "      <th>0</th>\n",
       "      <td>Aachen</td>\n",
       "      <td>1</td>\n",
       "      <td>Valid</td>\n",
       "      <td>L5</td>\n",
       "      <td>21.0</td>\n",
       "      <td>Fell</td>\n",
       "      <td>1880.0</td>\n",
       "      <td>50.77500</td>\n",
       "      <td>6.08333</td>\n",
       "      <td>(50.775, 6.08333)</td>\n",
       "    </tr>\n",
       "    <tr>\n",
       "      <th>1</th>\n",
       "      <td>Aarhus</td>\n",
       "      <td>2</td>\n",
       "      <td>Valid</td>\n",
       "      <td>H6</td>\n",
       "      <td>720.0</td>\n",
       "      <td>Fell</td>\n",
       "      <td>1951.0</td>\n",
       "      <td>56.18333</td>\n",
       "      <td>10.23333</td>\n",
       "      <td>(56.18333, 10.23333)</td>\n",
       "    </tr>\n",
       "    <tr>\n",
       "      <th>2</th>\n",
       "      <td>Abee</td>\n",
       "      <td>6</td>\n",
       "      <td>Valid</td>\n",
       "      <td>EH4</td>\n",
       "      <td>107000.0</td>\n",
       "      <td>Fell</td>\n",
       "      <td>1952.0</td>\n",
       "      <td>54.21667</td>\n",
       "      <td>-113.00000</td>\n",
       "      <td>(54.21667, -113.0)</td>\n",
       "    </tr>\n",
       "    <tr>\n",
       "      <th>3</th>\n",
       "      <td>Acapulco</td>\n",
       "      <td>10</td>\n",
       "      <td>Valid</td>\n",
       "      <td>Acapulcoite</td>\n",
       "      <td>1914.0</td>\n",
       "      <td>Fell</td>\n",
       "      <td>1976.0</td>\n",
       "      <td>16.88333</td>\n",
       "      <td>-99.90000</td>\n",
       "      <td>(16.88333, -99.9)</td>\n",
       "    </tr>\n",
       "    <tr>\n",
       "      <th>4</th>\n",
       "      <td>Achiras</td>\n",
       "      <td>370</td>\n",
       "      <td>Valid</td>\n",
       "      <td>L6</td>\n",
       "      <td>780.0</td>\n",
       "      <td>Fell</td>\n",
       "      <td>1902.0</td>\n",
       "      <td>-33.16667</td>\n",
       "      <td>-64.95000</td>\n",
       "      <td>(-33.16667, -64.95)</td>\n",
       "    </tr>\n",
       "  </tbody>\n",
       "</table>\n",
       "</div>"
      ],
      "text/plain": [
       "       name   id nametype     recclass  mass (g)  fall    year    reclat  \\\n",
       "0    Aachen    1    Valid           L5      21.0  Fell  1880.0  50.77500   \n",
       "1    Aarhus    2    Valid           H6     720.0  Fell  1951.0  56.18333   \n",
       "2      Abee    6    Valid          EH4  107000.0  Fell  1952.0  54.21667   \n",
       "3  Acapulco   10    Valid  Acapulcoite    1914.0  Fell  1976.0  16.88333   \n",
       "4   Achiras  370    Valid           L6     780.0  Fell  1902.0 -33.16667   \n",
       "\n",
       "     reclong           GeoLocation  \n",
       "0    6.08333     (50.775, 6.08333)  \n",
       "1   10.23333  (56.18333, 10.23333)  \n",
       "2 -113.00000    (54.21667, -113.0)  \n",
       "3  -99.90000     (16.88333, -99.9)  \n",
       "4  -64.95000   (-33.16667, -64.95)  "
      ]
     },
     "metadata": {},
     "output_type": "display_data"
    },
    {
     "name": "stdout",
     "output_type": "stream",
     "text": [
      "\n",
      "╔═════════════════════════════════════════════════╗\n",
      "║     Gather basic information about the data     ║\n",
      "╚═════════════════════════════════════════════════╝\n",
      "<class 'pandas.core.frame.DataFrame'>\n",
      "RangeIndex: 45716 entries, 0 to 45715\n",
      "Data columns (total 10 columns):\n",
      " #   Column       Non-Null Count  Dtype  \n",
      "---  ------       --------------  -----  \n",
      " 0   name         45716 non-null  object \n",
      " 1   id           45716 non-null  int64  \n",
      " 2   nametype     45716 non-null  object \n",
      " 3   recclass     45716 non-null  object \n",
      " 4   mass (g)     45585 non-null  float64\n",
      " 5   fall         45716 non-null  object \n",
      " 6   year         45425 non-null  float64\n",
      " 7   reclat       38401 non-null  float64\n",
      " 8   reclong      38401 non-null  float64\n",
      " 9   GeoLocation  38401 non-null  object \n",
      "dtypes: float64(4), int64(1), object(5)\n",
      "memory usage: 3.5+ MB\n"
     ]
    },
    {
     "data": {
      "text/plain": [
       "None"
      ]
     },
     "metadata": {},
     "output_type": "display_data"
    },
    {
     "name": "stdout",
     "output_type": "stream",
     "text": [
      "\n",
      "╔══════════════════════════════════════════════════════╗\n",
      "║     Gather descriptive statistics about the data     ║\n",
      "╚══════════════════════════════════════════════════════╝\n"
     ]
    },
    {
     "data": {
      "text/html": [
       "<div>\n",
       "<style scoped>\n",
       "    .dataframe tbody tr th:only-of-type {\n",
       "        vertical-align: middle;\n",
       "    }\n",
       "\n",
       "    .dataframe tbody tr th {\n",
       "        vertical-align: top;\n",
       "    }\n",
       "\n",
       "    .dataframe thead th {\n",
       "        text-align: right;\n",
       "    }\n",
       "</style>\n",
       "<table border=\"1\" class=\"dataframe\">\n",
       "  <thead>\n",
       "    <tr style=\"text-align: right;\">\n",
       "      <th></th>\n",
       "      <th>id</th>\n",
       "      <th>mass (g)</th>\n",
       "      <th>year</th>\n",
       "      <th>reclat</th>\n",
       "      <th>reclong</th>\n",
       "    </tr>\n",
       "  </thead>\n",
       "  <tbody>\n",
       "    <tr>\n",
       "      <th>count</th>\n",
       "      <td>45716.000000</td>\n",
       "      <td>4.558500e+04</td>\n",
       "      <td>45425.000000</td>\n",
       "      <td>38401.000000</td>\n",
       "      <td>38401.000000</td>\n",
       "    </tr>\n",
       "    <tr>\n",
       "      <th>mean</th>\n",
       "      <td>26889.735104</td>\n",
       "      <td>1.327808e+04</td>\n",
       "      <td>1991.828817</td>\n",
       "      <td>-39.122580</td>\n",
       "      <td>61.074319</td>\n",
       "    </tr>\n",
       "    <tr>\n",
       "      <th>std</th>\n",
       "      <td>16860.683030</td>\n",
       "      <td>5.749889e+05</td>\n",
       "      <td>25.052766</td>\n",
       "      <td>46.378511</td>\n",
       "      <td>80.647298</td>\n",
       "    </tr>\n",
       "    <tr>\n",
       "      <th>min</th>\n",
       "      <td>1.000000</td>\n",
       "      <td>0.000000e+00</td>\n",
       "      <td>860.000000</td>\n",
       "      <td>-87.366670</td>\n",
       "      <td>-165.433330</td>\n",
       "    </tr>\n",
       "    <tr>\n",
       "      <th>25%</th>\n",
       "      <td>12688.750000</td>\n",
       "      <td>7.200000e+00</td>\n",
       "      <td>1987.000000</td>\n",
       "      <td>-76.714240</td>\n",
       "      <td>0.000000</td>\n",
       "    </tr>\n",
       "    <tr>\n",
       "      <th>50%</th>\n",
       "      <td>24261.500000</td>\n",
       "      <td>3.260000e+01</td>\n",
       "      <td>1998.000000</td>\n",
       "      <td>-71.500000</td>\n",
       "      <td>35.666670</td>\n",
       "    </tr>\n",
       "    <tr>\n",
       "      <th>75%</th>\n",
       "      <td>40656.750000</td>\n",
       "      <td>2.026000e+02</td>\n",
       "      <td>2003.000000</td>\n",
       "      <td>0.000000</td>\n",
       "      <td>157.166670</td>\n",
       "    </tr>\n",
       "    <tr>\n",
       "      <th>max</th>\n",
       "      <td>57458.000000</td>\n",
       "      <td>6.000000e+07</td>\n",
       "      <td>2101.000000</td>\n",
       "      <td>81.166670</td>\n",
       "      <td>354.473330</td>\n",
       "    </tr>\n",
       "  </tbody>\n",
       "</table>\n",
       "</div>"
      ],
      "text/plain": [
       "                 id      mass (g)          year        reclat       reclong\n",
       "count  45716.000000  4.558500e+04  45425.000000  38401.000000  38401.000000\n",
       "mean   26889.735104  1.327808e+04   1991.828817    -39.122580     61.074319\n",
       "std    16860.683030  5.749889e+05     25.052766     46.378511     80.647298\n",
       "min        1.000000  0.000000e+00    860.000000    -87.366670   -165.433330\n",
       "25%    12688.750000  7.200000e+00   1987.000000    -76.714240      0.000000\n",
       "50%    24261.500000  3.260000e+01   1998.000000    -71.500000     35.666670\n",
       "75%    40656.750000  2.026000e+02   2003.000000      0.000000    157.166670\n",
       "max    57458.000000  6.000000e+07   2101.000000     81.166670    354.473330"
      ]
     },
     "metadata": {},
     "output_type": "display_data"
    },
    {
     "name": "stdout",
     "output_type": "stream",
     "text": [
      "\n",
      "╔═══════════════════════════════════════════════════════╗\n",
      "║     How many rows and columns are in the dataset?     ║\n",
      "╚═══════════════════════════════════════════════════════╝\n",
      "Rows = 45716\n",
      "Columns = 10\n",
      "\n",
      "╔════════════════════════════╗\n",
      "║     Inspect data types     ║\n",
      "╚════════════════════════════╝\n"
     ]
    },
    {
     "data": {
      "text/plain": [
       "name            object\n",
       "id               int64\n",
       "nametype        object\n",
       "recclass        object\n",
       "mass (g)       float64\n",
       "fall            object\n",
       "year           float64\n",
       "reclat         float64\n",
       "reclong        float64\n",
       "GeoLocation     object\n",
       "dtype: object"
      ]
     },
     "metadata": {},
     "output_type": "display_data"
    },
    {
     "name": "stdout",
     "output_type": "stream",
     "text": [
      "\n",
      "-------\n",
      "\n"
     ]
    },
    {
     "data": {
      "text/plain": [
       "object     5\n",
       "float64    4\n",
       "int64      1\n",
       "Name: count, dtype: int64"
      ]
     },
     "metadata": {},
     "output_type": "display_data"
    },
    {
     "name": "stdout",
     "output_type": "stream",
     "text": [
      "\n",
      "╔═══════════════════════════════════════╗\n",
      "║     Are there any duplicate rows?     ║\n",
      "║            Check duplicates           ║\n",
      "╚═══════════════════════════════════════╝\n",
      "Unique    45716\n",
      "\n",
      "╔══════════════════════════════════════════════╗\n",
      "║     Are there NaNs/Nulls in any columns?     ║\n",
      "║             Check missing values             ║\n",
      "╚══════════════════════════════════════════════╝\n",
      "             Null Count  Null Percentage\n",
      "mass (g)            131              0.0\n",
      "year                291              1.0\n",
      "reclat             7315             16.0\n",
      "reclong            7315             16.0\n",
      "GeoLocation        7315             16.0\n",
      "╔══════════════════════════════════╗\n",
      "║     Count inf in all columns     ║\n",
      "╚══════════════════════════════════╝\n",
      "name           0\n",
      "id             0\n",
      "nametype       0\n",
      "recclass       0\n",
      "mass (g)       0\n",
      "fall           0\n",
      "year           0\n",
      "reclat         0\n",
      "reclong        0\n",
      "GeoLocation    0\n",
      "dtype: int64\n",
      "\n"
     ]
    }
   ],
   "source": [
    "# Inspect dataframe\n",
    "inspect_dataframe(df0)"
   ]
  },
  {
   "cell_type": "markdown",
   "metadata": {},
   "source": [
    "# **Clean dataframe**"
   ]
  },
  {
   "cell_type": "code",
   "execution_count": 6,
   "metadata": {
    "execution": {
     "iopub.execute_input": "2024-04-21T18:16:12.299549Z",
     "iopub.status.busy": "2024-04-21T18:16:12.298999Z",
     "iopub.status.idle": "2024-04-21T18:16:12.397691Z",
     "shell.execute_reply": "2024-04-21T18:16:12.396424Z",
     "shell.execute_reply.started": "2024-04-21T18:16:12.299505Z"
    },
    "trusted": true
   },
   "outputs": [
    {
     "data": {
      "text/html": [
       "<div>\n",
       "<style scoped>\n",
       "    .dataframe tbody tr th:only-of-type {\n",
       "        vertical-align: middle;\n",
       "    }\n",
       "\n",
       "    .dataframe tbody tr th {\n",
       "        vertical-align: top;\n",
       "    }\n",
       "\n",
       "    .dataframe thead th {\n",
       "        text-align: right;\n",
       "    }\n",
       "</style>\n",
       "<table border=\"1\" class=\"dataframe\">\n",
       "  <thead>\n",
       "    <tr style=\"text-align: right;\">\n",
       "      <th></th>\n",
       "      <th>name</th>\n",
       "      <th>id</th>\n",
       "      <th>nametype</th>\n",
       "      <th>recclass</th>\n",
       "      <th>mass_in_grams</th>\n",
       "      <th>fall</th>\n",
       "      <th>year</th>\n",
       "      <th>lat</th>\n",
       "      <th>long</th>\n",
       "    </tr>\n",
       "  </thead>\n",
       "  <tbody>\n",
       "    <tr>\n",
       "      <th>0</th>\n",
       "      <td>Aachen</td>\n",
       "      <td>1</td>\n",
       "      <td>Valid</td>\n",
       "      <td>L5</td>\n",
       "      <td>21.0</td>\n",
       "      <td>Fell</td>\n",
       "      <td>1880.0</td>\n",
       "      <td>50.77500</td>\n",
       "      <td>6.08333</td>\n",
       "    </tr>\n",
       "    <tr>\n",
       "      <th>1</th>\n",
       "      <td>Aarhus</td>\n",
       "      <td>2</td>\n",
       "      <td>Valid</td>\n",
       "      <td>H6</td>\n",
       "      <td>720.0</td>\n",
       "      <td>Fell</td>\n",
       "      <td>1951.0</td>\n",
       "      <td>56.18333</td>\n",
       "      <td>10.23333</td>\n",
       "    </tr>\n",
       "    <tr>\n",
       "      <th>2</th>\n",
       "      <td>Abee</td>\n",
       "      <td>6</td>\n",
       "      <td>Valid</td>\n",
       "      <td>Eh4</td>\n",
       "      <td>107000.0</td>\n",
       "      <td>Fell</td>\n",
       "      <td>1952.0</td>\n",
       "      <td>54.21667</td>\n",
       "      <td>-113.00000</td>\n",
       "    </tr>\n",
       "    <tr>\n",
       "      <th>3</th>\n",
       "      <td>Acapulco</td>\n",
       "      <td>10</td>\n",
       "      <td>Valid</td>\n",
       "      <td>Acapulcoite</td>\n",
       "      <td>1914.0</td>\n",
       "      <td>Fell</td>\n",
       "      <td>1976.0</td>\n",
       "      <td>16.88333</td>\n",
       "      <td>-99.90000</td>\n",
       "    </tr>\n",
       "    <tr>\n",
       "      <th>4</th>\n",
       "      <td>Achiras</td>\n",
       "      <td>370</td>\n",
       "      <td>Valid</td>\n",
       "      <td>L6</td>\n",
       "      <td>780.0</td>\n",
       "      <td>Fell</td>\n",
       "      <td>1902.0</td>\n",
       "      <td>-33.16667</td>\n",
       "      <td>-64.95000</td>\n",
       "    </tr>\n",
       "  </tbody>\n",
       "</table>\n",
       "</div>"
      ],
      "text/plain": [
       "       name   id nametype     recclass  mass_in_grams  fall    year       lat  \\\n",
       "0    Aachen    1    Valid           L5           21.0  Fell  1880.0  50.77500   \n",
       "1    Aarhus    2    Valid           H6          720.0  Fell  1951.0  56.18333   \n",
       "2      Abee    6    Valid          Eh4       107000.0  Fell  1952.0  54.21667   \n",
       "3  Acapulco   10    Valid  Acapulcoite         1914.0  Fell  1976.0  16.88333   \n",
       "4   Achiras  370    Valid           L6          780.0  Fell  1902.0 -33.16667   \n",
       "\n",
       "        long  \n",
       "0    6.08333  \n",
       "1   10.23333  \n",
       "2 -113.00000  \n",
       "3  -99.90000  \n",
       "4  -64.95000  "
      ]
     },
     "metadata": {},
     "output_type": "display_data"
    }
   ],
   "source": [
    "df1 = df0.copy()\n",
    "\n",
    "# Rename column/s\n",
    "df1.rename({\"mass (g)\": \"mass_in_grams\", \"reclat\": \"lat\", \"reclong\": \"long\"}, axis=1, inplace=True)\n",
    "\n",
    "# Drop unnecessary column/s\n",
    "df1.drop(['GeoLocation'], axis=1, inplace=True)\n",
    "\n",
    "# Fill NaNs with 0\n",
    "df1 = df1.fillna(0)\n",
    "\n",
    "# Fix mass_in_grams column\n",
    "# df1['mass_in_grams'] = df1['mass_in_grams'].str.replace(',', '').astype(float)\n",
    "df1['mass_in_grams'] = df1['mass_in_grams'].astype(float)\n",
    "\n",
    "# Standardize string case of 'recclass' to account for any differences in cases (upper/lower)\n",
    "df1['recclass'] = df1['recclass'].apply(lambda x: x.lower().capitalize() if isinstance(x, str) else x)\n",
    "\n",
    "display(df1.head())"
   ]
  },
  {
   "cell_type": "markdown",
   "metadata": {},
   "source": [
    "## **Extract country name from geographical coordinates**\n",
    "- Using shapefile data from https://www.naturalearthdata.com/downloads/10m-cultural-vectors/10m-admin-0-countries/"
   ]
  },
  {
   "cell_type": "code",
   "execution_count": 15,
   "metadata": {
    "execution": {
     "iopub.execute_input": "2024-04-21T18:16:15.875961Z",
     "iopub.status.busy": "2024-04-21T18:16:15.875489Z",
     "iopub.status.idle": "2024-04-21T18:16:18.066684Z",
     "shell.execute_reply": "2024-04-21T18:16:18.065148Z",
     "shell.execute_reply.started": "2024-04-21T18:16:15.875927Z"
    },
    "trusted": true
   },
   "outputs": [
    {
     "ename": "DriverError",
     "evalue": "/kaggle/input/ne-10m-admin-0-countries/ne_10m_admin_0_countries.shp: No such file or directory",
     "output_type": "error",
     "traceback": [
      "\u001b[0;31m---------------------------------------------------------------------------\u001b[0m",
      "\u001b[0;31mCPLE_OpenFailedError\u001b[0m                      Traceback (most recent call last)",
      "File \u001b[0;32mfiona/ogrext.pyx:136\u001b[0m, in \u001b[0;36mfiona.ogrext.gdal_open_vector\u001b[0;34m()\u001b[0m\n",
      "File \u001b[0;32mfiona/_err.pyx:291\u001b[0m, in \u001b[0;36mfiona._err.exc_wrap_pointer\u001b[0;34m()\u001b[0m\n",
      "\u001b[0;31mCPLE_OpenFailedError\u001b[0m: /kaggle/input/ne-10m-admin-0-countries/ne_10m_admin_0_countries.shp: No such file or directory",
      "\nDuring handling of the above exception, another exception occurred:\n",
      "\u001b[0;31mDriverError\u001b[0m                               Traceback (most recent call last)",
      "Cell \u001b[0;32mIn[15], line 6\u001b[0m\n\u001b[1;32m      3\u001b[0m \u001b[38;5;28;01mimport\u001b[39;00m \u001b[38;5;21;01mgeopandas\u001b[39;00m \u001b[38;5;28;01mas\u001b[39;00m \u001b[38;5;21;01mgpd\u001b[39;00m\n\u001b[1;32m      5\u001b[0m \u001b[38;5;66;03m# Load shapefile data\u001b[39;00m\n\u001b[0;32m----> 6\u001b[0m world \u001b[38;5;241m=\u001b[39m \u001b[43mgpd\u001b[49m\u001b[38;5;241;43m.\u001b[39;49m\u001b[43mread_file\u001b[49m\u001b[43m(\u001b[49m\u001b[38;5;124;43mr\u001b[39;49m\u001b[38;5;124;43m'\u001b[39;49m\u001b[38;5;124;43m/kaggle/input/ne-10m-admin-0-countries/ne_10m_admin_0_countries.shp\u001b[39;49m\u001b[38;5;124;43m'\u001b[39;49m\u001b[43m)\u001b[49m\n\u001b[1;32m      8\u001b[0m \u001b[38;5;66;03m# Create Point geometries from latitudes and longitudes\u001b[39;00m\n\u001b[1;32m      9\u001b[0m geometry \u001b[38;5;241m=\u001b[39m []\n",
      "File \u001b[0;32m~/Library/Python/3.9/lib/python/site-packages/geopandas/io/file.py:297\u001b[0m, in \u001b[0;36m_read_file\u001b[0;34m(filename, bbox, mask, rows, engine, **kwargs)\u001b[0m\n\u001b[1;32m    294\u001b[0m     \u001b[38;5;28;01melse\u001b[39;00m:\n\u001b[1;32m    295\u001b[0m         path_or_bytes \u001b[38;5;241m=\u001b[39m filename\n\u001b[0;32m--> 297\u001b[0m     \u001b[38;5;28;01mreturn\u001b[39;00m \u001b[43m_read_file_fiona\u001b[49m\u001b[43m(\u001b[49m\n\u001b[1;32m    298\u001b[0m \u001b[43m        \u001b[49m\u001b[43mpath_or_bytes\u001b[49m\u001b[43m,\u001b[49m\u001b[43m \u001b[49m\u001b[43mfrom_bytes\u001b[49m\u001b[43m,\u001b[49m\u001b[43m \u001b[49m\u001b[43mbbox\u001b[49m\u001b[38;5;241;43m=\u001b[39;49m\u001b[43mbbox\u001b[49m\u001b[43m,\u001b[49m\u001b[43m \u001b[49m\u001b[43mmask\u001b[49m\u001b[38;5;241;43m=\u001b[39;49m\u001b[43mmask\u001b[49m\u001b[43m,\u001b[49m\u001b[43m \u001b[49m\u001b[43mrows\u001b[49m\u001b[38;5;241;43m=\u001b[39;49m\u001b[43mrows\u001b[49m\u001b[43m,\u001b[49m\u001b[43m \u001b[49m\u001b[38;5;241;43m*\u001b[39;49m\u001b[38;5;241;43m*\u001b[39;49m\u001b[43mkwargs\u001b[49m\n\u001b[1;32m    299\u001b[0m \u001b[43m    \u001b[49m\u001b[43m)\u001b[49m\n\u001b[1;32m    301\u001b[0m \u001b[38;5;28;01melse\u001b[39;00m:\n\u001b[1;32m    302\u001b[0m     \u001b[38;5;28;01mraise\u001b[39;00m \u001b[38;5;167;01mValueError\u001b[39;00m(\u001b[38;5;124mf\u001b[39m\u001b[38;5;124m\"\u001b[39m\u001b[38;5;124munknown engine \u001b[39m\u001b[38;5;124m'\u001b[39m\u001b[38;5;132;01m{\u001b[39;00mengine\u001b[38;5;132;01m}\u001b[39;00m\u001b[38;5;124m'\u001b[39m\u001b[38;5;124m\"\u001b[39m)\n",
      "File \u001b[0;32m~/Library/Python/3.9/lib/python/site-packages/geopandas/io/file.py:338\u001b[0m, in \u001b[0;36m_read_file_fiona\u001b[0;34m(path_or_bytes, from_bytes, bbox, mask, rows, where, **kwargs)\u001b[0m\n\u001b[1;32m    335\u001b[0m     reader \u001b[38;5;241m=\u001b[39m fiona\u001b[38;5;241m.\u001b[39mopen\n\u001b[1;32m    337\u001b[0m \u001b[38;5;28;01mwith\u001b[39;00m fiona_env():\n\u001b[0;32m--> 338\u001b[0m     \u001b[38;5;28;01mwith\u001b[39;00m \u001b[43mreader\u001b[49m\u001b[43m(\u001b[49m\u001b[43mpath_or_bytes\u001b[49m\u001b[43m,\u001b[49m\u001b[43m \u001b[49m\u001b[38;5;241;43m*\u001b[39;49m\u001b[38;5;241;43m*\u001b[39;49m\u001b[43mkwargs\u001b[49m\u001b[43m)\u001b[49m \u001b[38;5;28;01mas\u001b[39;00m features:\n\u001b[1;32m    339\u001b[0m         crs \u001b[38;5;241m=\u001b[39m features\u001b[38;5;241m.\u001b[39mcrs_wkt\n\u001b[1;32m    340\u001b[0m         \u001b[38;5;66;03m# attempt to get EPSG code\u001b[39;00m\n",
      "File \u001b[0;32m~/Library/Python/3.9/lib/python/site-packages/fiona/env.py:457\u001b[0m, in \u001b[0;36mensure_env_with_credentials.<locals>.wrapper\u001b[0;34m(*args, **kwds)\u001b[0m\n\u001b[1;32m    454\u001b[0m     session \u001b[38;5;241m=\u001b[39m DummySession()\n\u001b[1;32m    456\u001b[0m \u001b[38;5;28;01mwith\u001b[39;00m env_ctor(session\u001b[38;5;241m=\u001b[39msession):\n\u001b[0;32m--> 457\u001b[0m     \u001b[38;5;28;01mreturn\u001b[39;00m \u001b[43mf\u001b[49m\u001b[43m(\u001b[49m\u001b[38;5;241;43m*\u001b[39;49m\u001b[43margs\u001b[49m\u001b[43m,\u001b[49m\u001b[43m \u001b[49m\u001b[38;5;241;43m*\u001b[39;49m\u001b[38;5;241;43m*\u001b[39;49m\u001b[43mkwds\u001b[49m\u001b[43m)\u001b[49m\n",
      "File \u001b[0;32m~/Library/Python/3.9/lib/python/site-packages/fiona/__init__.py:292\u001b[0m, in \u001b[0;36mopen\u001b[0;34m(fp, mode, driver, schema, crs, encoding, layer, vfs, enabled_drivers, crs_wkt, allow_unsupported_drivers, **kwargs)\u001b[0m\n\u001b[1;32m    289\u001b[0m     path \u001b[38;5;241m=\u001b[39m parse_path(fp)\n\u001b[1;32m    291\u001b[0m \u001b[38;5;28;01mif\u001b[39;00m mode \u001b[38;5;129;01min\u001b[39;00m (\u001b[38;5;124m\"\u001b[39m\u001b[38;5;124ma\u001b[39m\u001b[38;5;124m\"\u001b[39m, \u001b[38;5;124m\"\u001b[39m\u001b[38;5;124mr\u001b[39m\u001b[38;5;124m\"\u001b[39m):\n\u001b[0;32m--> 292\u001b[0m     colxn \u001b[38;5;241m=\u001b[39m \u001b[43mCollection\u001b[49m\u001b[43m(\u001b[49m\n\u001b[1;32m    293\u001b[0m \u001b[43m        \u001b[49m\u001b[43mpath\u001b[49m\u001b[43m,\u001b[49m\n\u001b[1;32m    294\u001b[0m \u001b[43m        \u001b[49m\u001b[43mmode\u001b[49m\u001b[43m,\u001b[49m\n\u001b[1;32m    295\u001b[0m \u001b[43m        \u001b[49m\u001b[43mdriver\u001b[49m\u001b[38;5;241;43m=\u001b[39;49m\u001b[43mdriver\u001b[49m\u001b[43m,\u001b[49m\n\u001b[1;32m    296\u001b[0m \u001b[43m        \u001b[49m\u001b[43mencoding\u001b[49m\u001b[38;5;241;43m=\u001b[39;49m\u001b[43mencoding\u001b[49m\u001b[43m,\u001b[49m\n\u001b[1;32m    297\u001b[0m \u001b[43m        \u001b[49m\u001b[43mlayer\u001b[49m\u001b[38;5;241;43m=\u001b[39;49m\u001b[43mlayer\u001b[49m\u001b[43m,\u001b[49m\n\u001b[1;32m    298\u001b[0m \u001b[43m        \u001b[49m\u001b[43menabled_drivers\u001b[49m\u001b[38;5;241;43m=\u001b[39;49m\u001b[43menabled_drivers\u001b[49m\u001b[43m,\u001b[49m\n\u001b[1;32m    299\u001b[0m \u001b[43m        \u001b[49m\u001b[43mallow_unsupported_drivers\u001b[49m\u001b[38;5;241;43m=\u001b[39;49m\u001b[43mallow_unsupported_drivers\u001b[49m\u001b[43m,\u001b[49m\n\u001b[1;32m    300\u001b[0m \u001b[43m        \u001b[49m\u001b[38;5;241;43m*\u001b[39;49m\u001b[38;5;241;43m*\u001b[39;49m\u001b[43mkwargs\u001b[49m\n\u001b[1;32m    301\u001b[0m \u001b[43m    \u001b[49m\u001b[43m)\u001b[49m\n\u001b[1;32m    302\u001b[0m \u001b[38;5;28;01melif\u001b[39;00m mode \u001b[38;5;241m==\u001b[39m \u001b[38;5;124m\"\u001b[39m\u001b[38;5;124mw\u001b[39m\u001b[38;5;124m\"\u001b[39m:\n\u001b[1;32m    303\u001b[0m     colxn \u001b[38;5;241m=\u001b[39m Collection(\n\u001b[1;32m    304\u001b[0m         path,\n\u001b[1;32m    305\u001b[0m         mode,\n\u001b[0;32m   (...)\u001b[0m\n\u001b[1;32m    314\u001b[0m         \u001b[38;5;241m*\u001b[39m\u001b[38;5;241m*\u001b[39mkwargs\n\u001b[1;32m    315\u001b[0m     )\n",
      "File \u001b[0;32m~/Library/Python/3.9/lib/python/site-packages/fiona/collection.py:243\u001b[0m, in \u001b[0;36mCollection.__init__\u001b[0;34m(self, path, mode, driver, schema, crs, encoding, layer, vsi, archive, enabled_drivers, crs_wkt, ignore_fields, ignore_geometry, include_fields, wkt_version, allow_unsupported_drivers, **kwargs)\u001b[0m\n\u001b[1;32m    241\u001b[0m \u001b[38;5;28;01mif\u001b[39;00m \u001b[38;5;28mself\u001b[39m\u001b[38;5;241m.\u001b[39mmode \u001b[38;5;241m==\u001b[39m \u001b[38;5;124m\"\u001b[39m\u001b[38;5;124mr\u001b[39m\u001b[38;5;124m\"\u001b[39m:\n\u001b[1;32m    242\u001b[0m     \u001b[38;5;28mself\u001b[39m\u001b[38;5;241m.\u001b[39msession \u001b[38;5;241m=\u001b[39m Session()\n\u001b[0;32m--> 243\u001b[0m     \u001b[38;5;28;43mself\u001b[39;49m\u001b[38;5;241;43m.\u001b[39;49m\u001b[43msession\u001b[49m\u001b[38;5;241;43m.\u001b[39;49m\u001b[43mstart\u001b[49m\u001b[43m(\u001b[49m\u001b[38;5;28;43mself\u001b[39;49m\u001b[43m,\u001b[49m\u001b[43m \u001b[49m\u001b[38;5;241;43m*\u001b[39;49m\u001b[38;5;241;43m*\u001b[39;49m\u001b[43mkwargs\u001b[49m\u001b[43m)\u001b[49m\n\u001b[1;32m    244\u001b[0m \u001b[38;5;28;01melif\u001b[39;00m \u001b[38;5;28mself\u001b[39m\u001b[38;5;241m.\u001b[39mmode \u001b[38;5;129;01min\u001b[39;00m (\u001b[38;5;124m\"\u001b[39m\u001b[38;5;124ma\u001b[39m\u001b[38;5;124m\"\u001b[39m, \u001b[38;5;124m\"\u001b[39m\u001b[38;5;124mw\u001b[39m\u001b[38;5;124m\"\u001b[39m):\n\u001b[1;32m    245\u001b[0m     \u001b[38;5;28mself\u001b[39m\u001b[38;5;241m.\u001b[39msession \u001b[38;5;241m=\u001b[39m WritingSession()\n",
      "File \u001b[0;32mfiona/ogrext.pyx:588\u001b[0m, in \u001b[0;36mfiona.ogrext.Session.start\u001b[0;34m()\u001b[0m\n",
      "File \u001b[0;32mfiona/ogrext.pyx:143\u001b[0m, in \u001b[0;36mfiona.ogrext.gdal_open_vector\u001b[0;34m()\u001b[0m\n",
      "\u001b[0;31mDriverError\u001b[0m: /kaggle/input/ne-10m-admin-0-countries/ne_10m_admin_0_countries.shp: No such file or directory"
     ]
    }
   ],
   "source": [
    "from shapely.geometry import Point\n",
    "\n",
    "import geopandas as gpd\n",
    "\n",
    "# Load shapefile data\n",
    "world = gpd.read_file(r'/kaggle/input/ne-10m-admin-0-countries/ne_10m_admin_0_countries.shp')\n",
    "\n",
    "# Create Point geometries from latitudes and longitudes\n",
    "geometry = []\n",
    "for lat, long in zip(df1['lat'], df1['long']):\n",
    "    if pd.isnull(lat) or pd.isnull(long):\n",
    "        geometry.append(None)     # Assign None if either lat or long is NaN\n",
    "    else:\n",
    "        geometry.append(Point(long, lat))\n",
    "\n",
    "gdf_points = gpd.GeoDataFrame(df1, geometry=geometry, crs=world.crs)\n",
    "joined = gpd.sjoin(gdf_points, world[[ 'geometry', 'SOVEREIGNT']], predicate='within')\n",
    "country_info = joined[['SOVEREIGNT']]\n",
    "df1 = df1.merge(country_info, left_index=True, right_index=True, how='left')\n",
    "df1 = df1.rename(columns={'SOVEREIGNT': 'country'})\n",
    "\n",
    "df1.head()"
   ]
  },
  {
   "cell_type": "markdown",
   "metadata": {},
   "source": [
    "# **1) What are the spatial distribution patterns of meteorite landings worldwide?**"
   ]
  },
  {
   "cell_type": "code",
   "execution_count": 7,
   "metadata": {
    "execution": {
     "iopub.execute_input": "2024-04-05T00:45:31.764384Z",
     "iopub.status.busy": "2024-04-05T00:45:31.76321Z",
     "iopub.status.idle": "2024-04-05T00:47:04.7227Z",
     "shell.execute_reply": "2024-04-05T00:47:04.72083Z",
     "shell.execute_reply.started": "2024-04-05T00:45:31.764342Z"
    },
    "trusted": true
   },
   "outputs": [
    {
     "ename": "NameError",
     "evalue": "name 'df1' is not defined",
     "output_type": "error",
     "traceback": [
      "\u001b[0;31m---------------------------------------------------------------------------\u001b[0m",
      "\u001b[0;31mNameError\u001b[0m                                 Traceback (most recent call last)",
      "Cell \u001b[0;32mIn[7], line 2\u001b[0m\n\u001b[1;32m      1\u001b[0m \u001b[38;5;66;03m# Filter out rows with NaN values in lat, long, and mass_in_grams columns\u001b[39;00m\n\u001b[0;32m----> 2\u001b[0m df1_filtered \u001b[38;5;241m=\u001b[39m \u001b[43mdf1\u001b[49m[[ \u001b[38;5;124m'\u001b[39m\u001b[38;5;124mname\u001b[39m\u001b[38;5;124m'\u001b[39m, \u001b[38;5;124m'\u001b[39m\u001b[38;5;124mlat\u001b[39m\u001b[38;5;124m'\u001b[39m, \u001b[38;5;124m'\u001b[39m\u001b[38;5;124mlong\u001b[39m\u001b[38;5;124m'\u001b[39m, \u001b[38;5;124m'\u001b[39m\u001b[38;5;124mmass_in_grams\u001b[39m\u001b[38;5;124m'\u001b[39m]]\u001b[38;5;241m.\u001b[39mdropna(subset\u001b[38;5;241m=\u001b[39m[ \u001b[38;5;124m'\u001b[39m\u001b[38;5;124mname\u001b[39m\u001b[38;5;124m'\u001b[39m, \u001b[38;5;124m'\u001b[39m\u001b[38;5;124mlat\u001b[39m\u001b[38;5;124m'\u001b[39m, \u001b[38;5;124m'\u001b[39m\u001b[38;5;124mlong\u001b[39m\u001b[38;5;124m'\u001b[39m, \u001b[38;5;124m'\u001b[39m\u001b[38;5;124mmass_in_grams\u001b[39m\u001b[38;5;124m'\u001b[39m])\u001b[38;5;241m.\u001b[39mcopy()\n\u001b[1;32m      4\u001b[0m msgboxcenter(\u001b[38;5;124mf\u001b[39m\u001b[38;5;124m'\u001b[39m\u001b[38;5;124mSpatial distribution pattern of meteorite landings\u001b[39m\u001b[38;5;124m'\u001b[39m)\n\u001b[1;32m      6\u001b[0m f \u001b[38;5;241m=\u001b[39m folium\u001b[38;5;241m.\u001b[39mFigure(width\u001b[38;5;241m=\u001b[39m\u001b[38;5;241m1000\u001b[39m, height\u001b[38;5;241m=\u001b[39m\u001b[38;5;241m500\u001b[39m)\n",
      "\u001b[0;31mNameError\u001b[0m: name 'df1' is not defined"
     ]
    }
   ],
   "source": [
    "# Filter out rows with NaN values in lat, long, and mass_in_grams columns\n",
    "df1_filtered = df1[[ 'name', 'lat', 'long', 'mass_in_grams']].dropna(subset=[ 'name', 'lat', 'long', 'mass_in_grams']).copy()\n",
    "\n",
    "msgboxcenter(f'Spatial distribution pattern of meteorite landings')\n",
    "\n",
    "f = folium.Figure(width=1000, height=500)\n",
    "m = folium.Map(location=df1_filtered[[ 'lat', 'long']].mean().values.tolist()).add_to(f)\n",
    "\n",
    "for index, row in df1_filtered.iterrows():\n",
    "    folium.CircleMarker(\n",
    "        location=[row['lat'], row['long']],\n",
    "        radius=1,\n",
    "        color='blue',\n",
    "        fill=True,\n",
    "        fill_color='blue',\n",
    "        fill_opacity=0.6,\n",
    "        popup=f'Name: {row[\"name\"]}\\nMass: {row[\"mass_in_grams\"]}g'\n",
    "        ).add_to(m)\n",
    "\n",
    "m.fit_bounds([df1_filtered[[ 'lat', 'long']].min().values.tolist(), df1_filtered[[ 'lat', 'long']].max().values.tolist()])\n",
    "\n",
    "f"
   ]
  },
  {
   "cell_type": "code",
   "execution_count": null,
   "metadata": {
    "execution": {
     "iopub.execute_input": "2024-04-05T00:47:04.726276Z",
     "iopub.status.busy": "2024-04-05T00:47:04.725223Z",
     "iopub.status.idle": "2024-04-05T00:47:05.304827Z",
     "shell.execute_reply": "2024-04-05T00:47:05.303314Z",
     "shell.execute_reply.started": "2024-04-05T00:47:04.726219Z"
    },
    "trusted": true
   },
   "outputs": [],
   "source": [
    "from folium.plugins import HeatMap\n",
    "msgboxcenter(\"Spatial distribution Heatmap of meteorite landing Count\")\n",
    "# Filter out rows with NaN values in lat, long, and mass_in_grams columns\n",
    "df1_filtered = df1[['lat', 'long', 'mass_in_grams']].dropna(subset=['lat', 'long', 'mass_in_grams']).copy()\n",
    "df1_filtered = df1_filtered[df1_filtered['lat'] != 0]\n",
    "\n",
    "df1_filtered = df1_filtered.groupby(['lat','long']).count().reset_index().rename(columns={'mass_in_grams': \"count\"})\n",
    "lats_longs_mass = list(map(list, zip(df1_filtered[\"lat\"], df1_filtered[\"long\"], df1_filtered[\"count\"])))\n",
    "\n",
    "f = folium.Figure(width=1000, height=500)\n",
    "m = folium.Map(location=df1_filtered[[ 'lat', 'long']].mean().values.tolist()).add_to(f)\n",
    "\n",
    "hm = HeatMap(lats_longs_mass, use_local_extrema=False).add_to(m)\n",
    "\n",
    "m.fit_bounds([df1_filtered[[ 'lat', 'long']].min().values.tolist(), df1_filtered[[ 'lat', 'long']].max().values.tolist()])\n",
    "f"
   ]
  },
  {
   "cell_type": "markdown",
   "metadata": {},
   "source": [
    "# **2) What are the top 10 countries with the highest number of recorded meteorite landings?**"
   ]
  },
  {
   "cell_type": "code",
   "execution_count": null,
   "metadata": {
    "execution": {
     "iopub.execute_input": "2024-04-05T00:47:05.306907Z",
     "iopub.status.busy": "2024-04-05T00:47:05.306533Z",
     "iopub.status.idle": "2024-04-05T00:47:05.336681Z",
     "shell.execute_reply": "2024-04-05T00:47:05.335421Z",
     "shell.execute_reply.started": "2024-04-05T00:47:05.306874Z"
    },
    "trusted": true
   },
   "outputs": [],
   "source": [
    "df1_country_count = df1.groupby(['country'])[['country']].count().rename(columns={\n",
    "    \"country\": \"meteorite_landings\"\n",
    "    }).sort_values(by=['meteorite_landings'], ascending=False).reset_index()\n",
    "df1_country_count.head(10)"
   ]
  },
  {
   "cell_type": "code",
   "execution_count": null,
   "metadata": {
    "execution": {
     "iopub.execute_input": "2024-04-05T00:47:05.341079Z",
     "iopub.status.busy": "2024-04-05T00:47:05.340643Z",
     "iopub.status.idle": "2024-04-05T00:47:05.899247Z",
     "shell.execute_reply": "2024-04-05T00:47:05.897849Z",
     "shell.execute_reply.started": "2024-04-05T00:47:05.341022Z"
    },
    "trusted": true
   },
   "outputs": [],
   "source": [
    "fig = px.bar(\n",
    "    df1_country_count.head(10).sort_values(by=['meteorite_landings'], ascending=True),\n",
    "    x='meteorite_landings',\n",
    "    y='country',\n",
    "    log_x=True,\n",
    "    width=1000,\n",
    "    height=400\n",
    "    )\n",
    "fig.update_layout(\n",
    "    title=\"<b>Bar Plot of Top 10 Countries with Maximum Meteorite Landings</b>\",\n",
    "    xaxis_title=\"<b>Total Meteorite Landings (Log Scale)</b>\",\n",
    "    yaxis_title=\"<b>Country</b>\"\n",
    "    )\n",
    "fig.show()"
   ]
  },
  {
   "cell_type": "markdown",
   "metadata": {},
   "source": [
    "# **3) What are the top 10 meteorite landings worldwide based on their mass?**"
   ]
  },
  {
   "cell_type": "code",
   "execution_count": null,
   "metadata": {
    "execution": {
     "iopub.execute_input": "2024-04-05T00:47:05.901387Z",
     "iopub.status.busy": "2024-04-05T00:47:05.900916Z",
     "iopub.status.idle": "2024-04-05T00:47:05.982751Z",
     "shell.execute_reply": "2024-04-05T00:47:05.981405Z",
     "shell.execute_reply.started": "2024-04-05T00:47:05.901347Z"
    },
    "trusted": true
   },
   "outputs": [],
   "source": [
    "df1_by_mass = df1.sort_values(by=['mass_in_grams'], ascending=False).reset_index(drop=True).copy()\n",
    "df1_by_mass = df1_by_mass.dropna(subset=['country']).head(10)\n",
    "df1_by_mass['mass_in_grams'] = df1_by_mass['mass_in_grams'].astype(int)\n",
    "df1_by_mass.head(10)"
   ]
  },
  {
   "cell_type": "code",
   "execution_count": null,
   "metadata": {
    "execution": {
     "iopub.execute_input": "2024-04-05T00:47:05.984888Z",
     "iopub.status.busy": "2024-04-05T00:47:05.984461Z",
     "iopub.status.idle": "2024-04-05T00:47:06.167798Z",
     "shell.execute_reply": "2024-04-05T00:47:06.166404Z",
     "shell.execute_reply.started": "2024-04-05T00:47:05.984849Z"
    },
    "trusted": true
   },
   "outputs": [],
   "source": [
    "fig = px.scatter(df1_by_mass, y=\"country\", x=\"year\", color=\"country\", size='mass_in_grams', width=1000, height=400)\n",
    "fig.update_layout(\n",
    "    title=\"<b>Scatter Plot of Top 10 Heaviest Meteorite Landings</b>\",\n",
    "    xaxis_title=\"<b>Year of Meteorite Landings</b>\",\n",
    "    yaxis_title=\"<b>Country</b>\",\n",
    "    legend_title=\"Country\"\n",
    "    )\n",
    "fig.show()\n",
    "msgboxcenter(\n",
    "    \"(1) The heaviest meteor landing was found in Nambia (1920).\\n(2) Out of the top 10 heaviest meteorite landings, Namibia and Mexico recorded 2 each.\\n(3) Out of the top 10 heaviest meteorite landings the oldest recorded was in Argentina (1575).\"\n",
    "    )"
   ]
  },
  {
   "cell_type": "markdown",
   "metadata": {},
   "source": [
    "# **4) What is the cumulative count of meteorite landings per year over time, and what is the distribution of meteorite landings per year?**"
   ]
  },
  {
   "cell_type": "code",
   "execution_count": null,
   "metadata": {
    "execution": {
     "iopub.execute_input": "2024-04-05T00:47:06.170158Z",
     "iopub.status.busy": "2024-04-05T00:47:06.169665Z",
     "iopub.status.idle": "2024-04-05T00:47:06.398936Z",
     "shell.execute_reply": "2024-04-05T00:47:06.397699Z",
     "shell.execute_reply.started": "2024-04-05T00:47:06.170112Z"
    },
    "trusted": true
   },
   "outputs": [],
   "source": [
    "df1_by_mass = df1[(df1['year'] > 0) & (df1['year'] < 2024)]\n",
    "yearly_counts = df1_by_mass['year'].value_counts().sort_index()\n",
    "cumulative_counts = yearly_counts.cumsum().reset_index()\n",
    "\n",
    "fig = px.line(cumulative_counts, x='year', y='count', log_y=True, width=1000, height=400, hover_data=[ \"year\", \"count\"])\n",
    "fig.update_layout(\n",
    "    title=\"<b>Cumulative Count of Yearly Meteorite Landing Counts</b>\",\n",
    "    xaxis_title=\"<b>Year of Meteorite Landings</b>\",\n",
    "    yaxis_title=\"<b>Cumulative Count of<br>Yearly Meteorite Landings</b>\",\n",
    "    )\n",
    "fig.update_layout(hovermode='x unified')\n",
    "fig.update_traces(line_color='orange')\n",
    "fig.show()\n",
    "\n",
    "msgboxcenter(\n",
    "    \"(1) Between 1973 (2454 meteorite landings) and 1974 (3145 meteorite landings) there is a slight change in slope.\\n(2) Between 1978 (4217 meteorite landings) and 1979 (7263 meteorite landings) there is a sudden change in slope.\"\n",
    "    )\n",
    "\n",
    "print()\n",
    "\n",
    "fig = px.bar(df1_by_mass['year'].value_counts().sort_index().reset_index(), x='year', y='count', width=1000, height=400)\n",
    "fig.update_layout(\n",
    "    title=\"<b>Bar Plot of Yearly Meteorite Landings</b>\",\n",
    "    xaxis_range=[ 1950, 2023 ],\n",
    "    xaxis_title=\"<b>Year of Meteorite Landings</b>\",\n",
    "    yaxis_title=\"<b>Total Meteorite Landings</b>\"\n",
    "    )\n",
    "fig.update_traces(marker_color='green')\n",
    "fig.show()"
   ]
  },
  {
   "cell_type": "markdown",
   "metadata": {},
   "source": [
    "# **5) What is the distribution of meteorite landings based on their fall/found types?**"
   ]
  },
  {
   "cell_type": "code",
   "execution_count": null,
   "metadata": {
    "execution": {
     "iopub.execute_input": "2024-04-05T00:47:06.401258Z",
     "iopub.status.busy": "2024-04-05T00:47:06.400792Z",
     "iopub.status.idle": "2024-04-05T00:47:06.502096Z",
     "shell.execute_reply": "2024-04-05T00:47:06.50087Z",
     "shell.execute_reply.started": "2024-04-05T00:47:06.40122Z"
    },
    "trusted": true
   },
   "outputs": [],
   "source": [
    "fig = px.pie(df1['fall'].value_counts().reset_index(), values='count', names='fall', width=400, height=400)\n",
    "fig.update_layout(title=\"<b>Meteorite Landings By Fall Type</b>\", )\n",
    "fig.show()\n",
    "msgboxcenter(\"Nearly 98% of the meteorite landings were in 'found' category\\nVs\\n Nearly 2% in 'fell' category\")"
   ]
  },
  {
   "cell_type": "markdown",
   "metadata": {},
   "source": [
    "# **6) What is the distribution of meteorite landings based on their class type?**"
   ]
  },
  {
   "cell_type": "code",
   "execution_count": null,
   "metadata": {
    "execution": {
     "iopub.execute_input": "2024-04-05T00:47:06.504186Z",
     "iopub.status.busy": "2024-04-05T00:47:06.503758Z",
     "iopub.status.idle": "2024-04-05T00:47:06.616557Z",
     "shell.execute_reply": "2024-04-05T00:47:06.614839Z",
     "shell.execute_reply.started": "2024-04-05T00:47:06.504149Z"
    },
    "trusted": true
   },
   "outputs": [],
   "source": [
    "df1_class = df1['recclass'].value_counts().reset_index()\n",
    "\n",
    "total_count = df1_class['count'].sum()\n",
    "df1_class['percentage'] = round((df1_class['count'] / total_count) * 100, 0)\n",
    "\n",
    "threshold_percentage = 5\n",
    "\n",
    "filtered_df = df1_class[df1_class['percentage'] >= threshold_percentage]\n",
    "\n",
    "fig = px.pie(filtered_df, values='percentage', names='recclass', width=600, height=600)\n",
    "fig.update_layout(title=\"<b>Meteorite Landings By Class Type</b>\", )\n",
    "fig.update_traces(textposition='inside', texttemplate='%{label}<br>%{value}%')     #textinfo='label+value')\n",
    "fig.show()\n",
    "msgboxcenter(\"Meteorite landings predominantly are of class type H5 (16%) and L6 (18%).\")"
   ]
  },
  {
   "cell_type": "markdown",
   "metadata": {},
   "source": [
    "# **7) What is the relationship between the year of meteorite landings and their class types, categorized by class type and count, as depicted in the bubble plot?**"
   ]
  },
  {
   "cell_type": "code",
   "execution_count": null,
   "metadata": {
    "execution": {
     "iopub.execute_input": "2024-04-05T00:47:06.61926Z",
     "iopub.status.busy": "2024-04-05T00:47:06.618714Z",
     "iopub.status.idle": "2024-04-05T00:47:07.008547Z",
     "shell.execute_reply": "2024-04-05T00:47:07.007235Z",
     "shell.execute_reply.started": "2024-04-05T00:47:06.619209Z"
    },
    "trusted": true
   },
   "outputs": [],
   "source": [
    "df1_by_class_year = df1[(df1['year'] > 0) & (df1['year'] < 2024)]\n",
    "df1_by_class_year = df1_by_class_year.groupby([ 'year', 'recclass'])[['year']].size().reset_index().rename(columns={0: \"count\"})\n",
    "df1_by_class_year['year'] = df1_by_class_year['year'].astype(int)\n",
    "\n",
    "fig = px.scatter(df1_by_class_year[df1_by_class_year['count'] > 20], x=\"recclass\", y=\"year\", color=\"recclass\", size='count', width=1200, height=600)\n",
    "fig.update_layout(\n",
    "    title=\"<b>Meteorite Landings Bubble Plot Showing Relationship between Year and Class Type by Class Type and Class Count<br></b>Minimum Count = 20\",\n",
    "    yaxis_range=[ 1950, 2023 ],\n",
    "    xaxis_title=\"<b>Meteorite Landing Class</b>\",\n",
    "    yaxis_title=\"<b>Year of Meteorite Landings</b>\",\n",
    "    legend_title=\"Class\"\n",
    "    )\n",
    "fig.show()"
   ]
  },
  {
   "cell_type": "markdown",
   "metadata": {},
   "source": [
    "# **8) What is the cumulative extraterrestrial mass accumulated on Earth as a result of meteorite landings over time, and what is the distribution of extraterrestrial mass per year?**"
   ]
  },
  {
   "cell_type": "code",
   "execution_count": null,
   "metadata": {
    "execution": {
     "iopub.execute_input": "2024-04-05T00:47:07.010882Z",
     "iopub.status.busy": "2024-04-05T00:47:07.01049Z",
     "iopub.status.idle": "2024-04-05T00:47:07.190557Z",
     "shell.execute_reply": "2024-04-05T00:47:07.189101Z",
     "shell.execute_reply.started": "2024-04-05T00:47:07.010849Z"
    },
    "trusted": true
   },
   "outputs": [],
   "source": [
    "df1_by_mass = df1[(df1['year'] > 0) & (df1['year'] < 2024)]\n",
    "df1_by_mass = df1_by_mass.groupby(['year'])['mass_in_grams'].sum()\n",
    "cumulative_counts = df1_by_mass.cumsum().reset_index()\n",
    "\n",
    "# Convert grams to kilograms\n",
    "cumulative_counts['mass_in_grams'] = round(cumulative_counts['mass_in_grams'] * 0.001, 1)\n",
    "cumulative_counts = cumulative_counts.rename({'mass_in_grams': 'mass_in_kg'}, axis='columns')\n",
    "\n",
    "fig = px.line(cumulative_counts, x='year', y='mass_in_kg', log_y=True, width=1000, height=400, hover_data=[ \"year\", \"mass_in_kg\"])\n",
    "fig.update_layout(\n",
    "    title=\"<b>Cumulative Extraterrestrial Mass On Earth Due to Meteorite Landings</b>\",\n",
    "    xaxis_title=\"<b>Year of Meteorite Landings</b>\",\n",
    "    yaxis_title=\"<b>Cumulative mass of<br>Yearly Meteorite Landings (kg)</b>\",\n",
    "    )\n",
    "fig.update_layout(hovermode='x unified')\n",
    "fig.update_traces(line_color='magenta')\n",
    "fig.show()\n",
    "\n",
    "msgboxcenter(\n",
    "    f\"1) Total extraterrestrial mass accumulated as of {cumulative_counts.iloc[-1]['year'].astype(int)} was {round(cumulative_counts.iloc[-1]['mass_in_kg']):,}kg ({round(cumulative_counts.iloc[-1]['mass_in_kg']*0.00110231):,} US tons)\\n2) Huge spike from 1519 (234.6kg) to 1575 (50,235kg)\"\n",
    "    )\n",
    "\n",
    "df1_by_mass = df1[(df1['year'] > 0) & (df1['year'] < 2024)]\n",
    "df1_by_mass = df1_by_mass.groupby(['year'])['mass_in_grams'].sum().sort_index().reset_index()\n",
    "df1_by_mass['mass_in_grams'] = round(df1_by_mass['mass_in_grams'] * 0.001, 1)\n",
    "df1_by_mass['year'] = df1_by_mass['year'].astype(int)\n",
    "df1_by_mass = df1_by_mass.rename({'mass_in_grams': 'mass_in_kg'}, axis='columns')\n",
    "\n",
    "fig = px.bar(df1_by_mass, x='year', y='mass_in_kg', log_y=True, width=1000, height=400)\n",
    "fig.update_layout(\n",
    "    title=\"<b>Bar Plot of Mass of Meteorite Landings by Year</b>\",\n",
    "    xaxis_range=[ 1500, 2013 ],\n",
    "    xaxis_title=\"<b>Year of Meteorite Landings</b>\",\n",
    "    yaxis_title=\"<b>Total Mass of Meteorite Landings</b>\"\n",
    "    )\n",
    "fig.update_traces(marker_color='green')\n",
    "fig.show()"
   ]
  },
  {
   "cell_type": "markdown",
   "metadata": {},
   "source": [
    "# **9) What are the top 10 meteorite classes based on their average mass within the class and their class count?**"
   ]
  },
  {
   "cell_type": "code",
   "execution_count": null,
   "metadata": {
    "execution": {
     "iopub.execute_input": "2024-04-05T00:47:07.19314Z",
     "iopub.status.busy": "2024-04-05T00:47:07.192367Z",
     "iopub.status.idle": "2024-04-05T00:47:07.236355Z",
     "shell.execute_reply": "2024-04-05T00:47:07.23515Z",
     "shell.execute_reply.started": "2024-04-05T00:47:07.193096Z"
    },
    "trusted": true
   },
   "outputs": [],
   "source": [
    "df1_class = df1[df1['mass_in_grams'] > 0].copy()\n",
    "# df1_class= df1_class.groupby('recclass')['mass_in_grams'].mean().reset_index()\n",
    "df1_class = df1.groupby('recclass')['mass_in_grams'].agg([ 'mean', 'count']).reset_index()\n",
    "df1_class = df1_class.rename({'mean': 'mass_in_grams'}, axis='columns')\n",
    "df1_class['mass_in_kg'] = round(df1_class['mass_in_grams'] * 0.001, 1)\n",
    "df1_class = df1_class.sort_values(by='count', ascending=False).reset_index(drop=True)\n",
    "df1_class.head(10)"
   ]
  },
  {
   "cell_type": "code",
   "execution_count": null,
   "metadata": {
    "execution": {
     "iopub.execute_input": "2024-04-05T00:47:07.238112Z",
     "iopub.status.busy": "2024-04-05T00:47:07.237732Z",
     "iopub.status.idle": "2024-04-05T00:47:07.272137Z",
     "shell.execute_reply": "2024-04-05T00:47:07.270898Z",
     "shell.execute_reply.started": "2024-04-05T00:47:07.238075Z"
    },
    "trusted": true
   },
   "outputs": [],
   "source": [
    "import plotly.graph_objects as go\n",
    "\n",
    "bar_trace = go.Bar(x=df1_class.head(10)['recclass'], y=df1_class.head(10)['mass_in_kg'], name='Average Mass of Meteorite (kg)')\n",
    "scatter_trace = go.Scatter(\n",
    "    x=df1_class.head(10)['recclass'], y=df1_class.head(10)['count'], mode='markers+lines', name='Meteorite Class Count', yaxis='y2'\n",
    "    )\n",
    "fig = go.Figure(data=[ bar_trace, scatter_trace ])\n",
    "fig.update_layout(\n",
    "    xaxis=dict(title='<b>Meteorite Class</b>'),\n",
    "    yaxis=dict(title='<b>Average Mass of Meteorite (kg)</b>'),\n",
    "    yaxis2=dict(title='<b>Meteorite Class Count</b>', overlaying='y', side='right'),\n",
    "    title=\"<b>Bar Plot of Average Meteorite Mass (in kg) by Class, Sorted by Class Count</b>\",\n",
    "    legend=dict(orientation='h', yanchor='top', y=1.15, xanchor='right', x=1),\n",
    "    width=1000,\n",
    "    height=400\n",
    "    )\n",
    "fig.show()\n",
    "\n",
    "msgboxcenter(f'Based on maximum class count the average meteorite mass is about 1.5kg for Class L6.')"
   ]
  },
  {
   "cell_type": "code",
   "execution_count": null,
   "metadata": {},
   "outputs": [],
   "source": []
  }
 ],
 "metadata": {
  "kaggle": {
   "accelerator": "none",
   "dataSources": [
    {
     "datasetId": 4704560,
     "sourceId": 7991303,
     "sourceType": "datasetVersion"
    },
    {
     "datasetId": 4734825,
     "sourceId": 8032647,
     "sourceType": "datasetVersion"
    }
   ],
   "dockerImageVersionId": 30673,
   "isGpuEnabled": false,
   "isInternetEnabled": false,
   "language": "python",
   "sourceType": "notebook"
  },
  "kernelspec": {
   "display_name": "Python 3",
   "language": "python",
   "name": "python3"
  },
  "language_info": {
   "codemirror_mode": {
    "name": "ipython",
    "version": 3
   },
   "file_extension": ".py",
   "mimetype": "text/x-python",
   "name": "python",
   "nbconvert_exporter": "python",
   "pygments_lexer": "ipython3",
   "version": "3.9.6"
  }
 },
 "nbformat": 4,
 "nbformat_minor": 4
}
